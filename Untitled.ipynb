{
 "cells": [
  {
   "cell_type": "code",
   "execution_count": 1,
   "id": "45050434-15da-4792-857e-5a1330a63e78",
   "metadata": {},
   "outputs": [
    {
     "name": "stdout",
     "output_type": "stream",
     "text": [
      "Requirement already satisfied: Bio in c:\\dev\\github\\psugeometry\\venv\\lib\\site-packages (0.4.1)\n",
      "Requirement already satisfied: biopython>=1.78 in c:\\dev\\github\\psugeometry\\venv\\lib\\site-packages (from Bio) (1.78)\n",
      "Requirement already satisfied: requests in c:\\dev\\github\\psugeometry\\venv\\lib\\site-packages (from Bio) (2.25.1)\n",
      "Collecting numpy<1.20\n",
      "  Using cached numpy-1.19.5-cp37-cp37m-win_amd64.whl (13.2 MB)\n",
      "Requirement already satisfied: idna<3,>=2.5 in c:\\dev\\github\\psugeometry\\venv\\lib\\site-packages (from requests->Bio) (2.10)\n",
      "Requirement already satisfied: certifi>=2017.4.17 in c:\\dev\\github\\psugeometry\\venv\\lib\\site-packages (from requests->Bio) (2020.12.5)\n",
      "Requirement already satisfied: urllib3<1.27,>=1.21.1 in c:\\dev\\github\\psugeometry\\venv\\lib\\site-packages (from requests->Bio) (1.26.4)\n",
      "Requirement already satisfied: chardet<5,>=3.0.2 in c:\\dev\\github\\psugeometry\\venv\\lib\\site-packages (from requests->Bio) (4.0.0)\n",
      "Installing collected packages: numpy\n",
      "  Attempting uninstall: numpy\n",
      "    Found existing installation: numpy 1.20.2\n",
      "    Uninstalling numpy-1.20.2:\n",
      "      Successfully uninstalled numpy-1.20.2\n"
     ]
    },
    {
     "name": "stderr",
     "output_type": "stream",
     "text": [
      "ERROR: Could not install packages due to an OSError: [WinError 5] Access is denied: 'c:\\\\dev\\\\github\\\\psugeometry\\\\venv\\\\lib\\\\site-packages\\\\~umpy\\\\.libs\\\\libopenblas.GK7GX5KEQ4F6UYO3P26ULGBQYHGQO7J4.gfortran-win_amd64.dll'\n",
      "Consider using the `--user` option or check the permissions.\n",
      "\n",
      "WARNING: You are using pip version 21.0.1; however, version 21.1.1 is available.\n",
      "You should consider upgrading via the 'c:\\dev\\github\\psugeometry\\venv\\scripts\\python.exe -m pip install --upgrade pip' command.\n"
     ]
    }
   ],
   "source": [
    "!pip install Bio"
   ]
  },
  {
   "cell_type": "code",
   "execution_count": null,
   "id": "e8bd467f-a59c-4cd2-b83d-bd454df483a2",
   "metadata": {},
   "outputs": [],
   "source": []
  }
 ],
 "metadata": {
  "kernelspec": {
   "display_name": "Python 3",
   "language": "python",
   "name": "python3"
  },
  "language_info": {
   "codemirror_mode": {
    "name": "ipython",
    "version": 3
   },
   "file_extension": ".py",
   "mimetype": "text/x-python",
   "name": "python",
   "nbconvert_exporter": "python",
   "pygments_lexer": "ipython3",
   "version": "3.7.8"
  }
 },
 "nbformat": 4,
 "nbformat_minor": 5
}
